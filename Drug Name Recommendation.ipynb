{
 "cells": [
  {
   "cell_type": "markdown",
   "id": "752aadd6",
   "metadata": {},
   "source": [
    "# Import libraries"
   ]
  },
  {
   "cell_type": "code",
   "execution_count": 2,
   "id": "c04f56e9",
   "metadata": {},
   "outputs": [],
   "source": [
    "import pandas as pd\n",
    "from pandas import read_csv\n",
    "import numpy as np\n",
    "import matplotlib.pyplot as plt"
   ]
  },
  {
   "cell_type": "markdown",
   "id": "82bb53e1",
   "metadata": {},
   "source": [
    "#  Load Dataset"
   ]
  },
  {
   "cell_type": "code",
   "execution_count": 85,
   "id": "da2ba4ef",
   "metadata": {},
   "outputs": [
    {
     "data": {
      "text/html": [
       "<div>\n",
       "<style scoped>\n",
       "    .dataframe tbody tr th:only-of-type {\n",
       "        vertical-align: middle;\n",
       "    }\n",
       "\n",
       "    .dataframe tbody tr th {\n",
       "        vertical-align: top;\n",
       "    }\n",
       "\n",
       "    .dataframe thead th {\n",
       "        text-align: right;\n",
       "    }\n",
       "</style>\n",
       "<table border=\"1\" class=\"dataframe\">\n",
       "  <thead>\n",
       "    <tr style=\"text-align: right;\">\n",
       "      <th></th>\n",
       "      <th>Drug</th>\n",
       "      <th>Disease</th>\n",
       "      <th>Gender</th>\n",
       "      <th>Age</th>\n",
       "    </tr>\n",
       "  </thead>\n",
       "  <tbody>\n",
       "    <tr>\n",
       "      <th>0</th>\n",
       "      <td>A CN Gel(Topical) 20gmA CN Soap 75gm</td>\n",
       "      <td>Acne</td>\n",
       "      <td>Male</td>\n",
       "      <td>23</td>\n",
       "    </tr>\n",
       "    <tr>\n",
       "      <th>1</th>\n",
       "      <td>A Ret 0.05% Gel 20gmA Ret 0.1% Gel 20gmA Ret 0...</td>\n",
       "      <td>Acne</td>\n",
       "      <td>Male</td>\n",
       "      <td>23</td>\n",
       "    </tr>\n",
       "    <tr>\n",
       "      <th>2</th>\n",
       "      <td>ACGEL CL NANO Gel 15gm</td>\n",
       "      <td>Acne</td>\n",
       "      <td>Male</td>\n",
       "      <td>23</td>\n",
       "    </tr>\n",
       "    <tr>\n",
       "      <th>3</th>\n",
       "      <td>ACGEL NANO Gel 15gm</td>\n",
       "      <td>Acne</td>\n",
       "      <td>Male</td>\n",
       "      <td>23</td>\n",
       "    </tr>\n",
       "    <tr>\n",
       "      <th>4</th>\n",
       "      <td>Acleen 1% Lotion 25ml</td>\n",
       "      <td>Acne</td>\n",
       "      <td>Male</td>\n",
       "      <td>23</td>\n",
       "    </tr>\n",
       "    <tr>\n",
       "      <th>5</th>\n",
       "      <td>Aclene 0.10% Gel 15gm</td>\n",
       "      <td>Acne</td>\n",
       "      <td>Male</td>\n",
       "      <td>23</td>\n",
       "    </tr>\n",
       "    <tr>\n",
       "      <th>6</th>\n",
       "      <td>Acnay Gel 10gm</td>\n",
       "      <td>Acne</td>\n",
       "      <td>Male</td>\n",
       "      <td>23</td>\n",
       "    </tr>\n",
       "    <tr>\n",
       "      <th>7</th>\n",
       "      <td>Acne Aid Bar 50gmAcne Aid Bar 100gm</td>\n",
       "      <td>Acne</td>\n",
       "      <td>Male</td>\n",
       "      <td>23</td>\n",
       "    </tr>\n",
       "    <tr>\n",
       "      <th>8</th>\n",
       "      <td>Acne UV Gel 60gm</td>\n",
       "      <td>Acne</td>\n",
       "      <td>Male</td>\n",
       "      <td>23</td>\n",
       "    </tr>\n",
       "    <tr>\n",
       "      <th>9</th>\n",
       "      <td>Acne UV SPF 30 Gel 30gm</td>\n",
       "      <td>Acne</td>\n",
       "      <td>Male</td>\n",
       "      <td>23</td>\n",
       "    </tr>\n",
       "    <tr>\n",
       "      <th>10</th>\n",
       "      <td>Acnecure Gel 20gm</td>\n",
       "      <td>Acne</td>\n",
       "      <td>Male</td>\n",
       "      <td>23</td>\n",
       "    </tr>\n",
       "    <tr>\n",
       "      <th>11</th>\n",
       "      <td>Acnedap Gel 15gm</td>\n",
       "      <td>Acne</td>\n",
       "      <td>Male</td>\n",
       "      <td>23</td>\n",
       "    </tr>\n",
       "    <tr>\n",
       "      <th>12</th>\n",
       "      <td>Acnedap Plus Gel 15gm</td>\n",
       "      <td>Acne</td>\n",
       "      <td>Male</td>\n",
       "      <td>23</td>\n",
       "    </tr>\n",
       "    <tr>\n",
       "      <th>13</th>\n",
       "      <td>Acnehit Gel 15gm</td>\n",
       "      <td>Acne</td>\n",
       "      <td>Male</td>\n",
       "      <td>23</td>\n",
       "    </tr>\n",
       "    <tr>\n",
       "      <th>14</th>\n",
       "      <td>Acnelak Soap 75gm</td>\n",
       "      <td>Acne</td>\n",
       "      <td>Male</td>\n",
       "      <td>23</td>\n",
       "    </tr>\n",
       "    <tr>\n",
       "      <th>15</th>\n",
       "      <td>Acnelak Clz Cream 15gm</td>\n",
       "      <td>Acne</td>\n",
       "      <td>Male</td>\n",
       "      <td>23</td>\n",
       "    </tr>\n",
       "    <tr>\n",
       "      <th>16</th>\n",
       "      <td>Acnelak Z Lotion 15gm</td>\n",
       "      <td>Acne</td>\n",
       "      <td>Male</td>\n",
       "      <td>23</td>\n",
       "    </tr>\n",
       "    <tr>\n",
       "      <th>17</th>\n",
       "      <td>Acnemoist Cream 60gm</td>\n",
       "      <td>Acne</td>\n",
       "      <td>Male</td>\n",
       "      <td>23</td>\n",
       "    </tr>\n",
       "    <tr>\n",
       "      <th>18</th>\n",
       "      <td>Acnerex Soap 75gm</td>\n",
       "      <td>Acne</td>\n",
       "      <td>Male</td>\n",
       "      <td>23</td>\n",
       "    </tr>\n",
       "    <tr>\n",
       "      <th>19</th>\n",
       "      <td>Acneril 1% Gel 10gmAcneril Tablet 10Acneril 0....</td>\n",
       "      <td>Acne</td>\n",
       "      <td>Male</td>\n",
       "      <td>23</td>\n",
       "    </tr>\n",
       "  </tbody>\n",
       "</table>\n",
       "</div>"
      ],
      "text/plain": [
       "                                                 Drug Disease Gender  Age\n",
       "0                A CN Gel(Topical) 20gmA CN Soap 75gm    Acne   Male   23\n",
       "1   A Ret 0.05% Gel 20gmA Ret 0.1% Gel 20gmA Ret 0...    Acne   Male   23\n",
       "2                              ACGEL CL NANO Gel 15gm    Acne   Male   23\n",
       "3                                 ACGEL NANO Gel 15gm    Acne   Male   23\n",
       "4                               Acleen 1% Lotion 25ml    Acne   Male   23\n",
       "5                               Aclene 0.10% Gel 15gm    Acne   Male   23\n",
       "6                                      Acnay Gel 10gm    Acne   Male   23\n",
       "7                 Acne Aid Bar 50gmAcne Aid Bar 100gm    Acne   Male   23\n",
       "8                                    Acne UV Gel 60gm    Acne   Male   23\n",
       "9                             Acne UV SPF 30 Gel 30gm    Acne   Male   23\n",
       "10                                  Acnecure Gel 20gm    Acne   Male   23\n",
       "11                                   Acnedap Gel 15gm    Acne   Male   23\n",
       "12                              Acnedap Plus Gel 15gm    Acne   Male   23\n",
       "13                                   Acnehit Gel 15gm    Acne   Male   23\n",
       "14                                  Acnelak Soap 75gm    Acne   Male   23\n",
       "15                             Acnelak Clz Cream 15gm    Acne   Male   23\n",
       "16                              Acnelak Z Lotion 15gm    Acne   Male   23\n",
       "17                               Acnemoist Cream 60gm    Acne   Male   23\n",
       "18                                  Acnerex Soap 75gm    Acne   Male   23\n",
       "19  Acneril 1% Gel 10gmAcneril Tablet 10Acneril 0....    Acne   Male   23"
      ]
     },
     "execution_count": 85,
     "metadata": {},
     "output_type": "execute_result"
    }
   ],
   "source": [
    "fileName = 'DrugData.csv'\n",
    "data = read_csv(fileName)\n",
    "data.head(20)"
   ]
  },
  {
   "cell_type": "markdown",
   "id": "43b93e39",
   "metadata": {},
   "source": [
    "# Checking data"
   ]
  },
  {
   "cell_type": "code",
   "execution_count": 86,
   "id": "d5bea20b",
   "metadata": {},
   "outputs": [
    {
     "data": {
      "text/plain": [
       "Drug       0\n",
       "Disease    0\n",
       "Gender     0\n",
       "Age        0\n",
       "dtype: int64"
      ]
     },
     "execution_count": 86,
     "metadata": {},
     "output_type": "execute_result"
    }
   ],
   "source": [
    "# Shape\n",
    "\n",
    "data.shape\n",
    "\n",
    "#Check missing values\n",
    "a1=data.isnull()\n",
    "a1.sum()"
   ]
  },
  {
   "cell_type": "markdown",
   "id": "9abf3fb8",
   "metadata": {},
   "source": [
    "# Data prepossesing"
   ]
  },
  {
   "cell_type": "code",
   "execution_count": 87,
   "id": "eb369cef",
   "metadata": {},
   "outputs": [
    {
     "data": {
      "text/html": [
       "<div>\n",
       "<style scoped>\n",
       "    .dataframe tbody tr th:only-of-type {\n",
       "        vertical-align: middle;\n",
       "    }\n",
       "\n",
       "    .dataframe tbody tr th {\n",
       "        vertical-align: top;\n",
       "    }\n",
       "\n",
       "    .dataframe thead th {\n",
       "        text-align: right;\n",
       "    }\n",
       "</style>\n",
       "<table border=\"1\" class=\"dataframe\">\n",
       "  <thead>\n",
       "    <tr style=\"text-align: right;\">\n",
       "      <th></th>\n",
       "      <th>Drug</th>\n",
       "      <th>Disease</th>\n",
       "      <th>Gender</th>\n",
       "      <th>Age</th>\n",
       "    </tr>\n",
       "  </thead>\n",
       "  <tbody>\n",
       "    <tr>\n",
       "      <th>0</th>\n",
       "      <td>A CN Gel(Topical) 20gmA CN Soap 75gm</td>\n",
       "      <td>0</td>\n",
       "      <td>1</td>\n",
       "      <td>23</td>\n",
       "    </tr>\n",
       "    <tr>\n",
       "      <th>1</th>\n",
       "      <td>A Ret 0.05% Gel 20gmA Ret 0.1% Gel 20gmA Ret 0...</td>\n",
       "      <td>0</td>\n",
       "      <td>1</td>\n",
       "      <td>23</td>\n",
       "    </tr>\n",
       "    <tr>\n",
       "      <th>2</th>\n",
       "      <td>ACGEL CL NANO Gel 15gm</td>\n",
       "      <td>0</td>\n",
       "      <td>1</td>\n",
       "      <td>23</td>\n",
       "    </tr>\n",
       "    <tr>\n",
       "      <th>3</th>\n",
       "      <td>ACGEL NANO Gel 15gm</td>\n",
       "      <td>0</td>\n",
       "      <td>1</td>\n",
       "      <td>23</td>\n",
       "    </tr>\n",
       "    <tr>\n",
       "      <th>4</th>\n",
       "      <td>Acleen 1% Lotion 25ml</td>\n",
       "      <td>0</td>\n",
       "      <td>1</td>\n",
       "      <td>23</td>\n",
       "    </tr>\n",
       "  </tbody>\n",
       "</table>\n",
       "</div>"
      ],
      "text/plain": [
       "                                                Drug  Disease  Gender  Age\n",
       "0               A CN Gel(Topical) 20gmA CN Soap 75gm        0       1   23\n",
       "1  A Ret 0.05% Gel 20gmA Ret 0.1% Gel 20gmA Ret 0...        0       1   23\n",
       "2                             ACGEL CL NANO Gel 15gm        0       1   23\n",
       "3                                ACGEL NANO Gel 15gm        0       1   23\n",
       "4                              Acleen 1% Lotion 25ml        0       1   23"
      ]
     },
     "execution_count": 87,
     "metadata": {},
     "output_type": "execute_result"
    }
   ],
   "source": [
    "data.replace({'Gender' :{'Female' :0, 'Male': 1}}, inplace = True)\n",
    "a = data[['Disease']]\n",
    "a.Disease.unique()\n",
    "\n",
    "\n",
    "#Convert object into integer\n",
    "\n",
    "data.replace({'Disease':{'Acne' :0, 'Allergy' :1, 'Diabetes' :2, 'Fungal infection' :3,\n",
    "       'Urinary tract infection' :4, 'Malaria' :5, 'Migraine' :6, 'Hepatitis B' :7,\n",
    "       'AIDS' :8}}, inplace = True)\n",
    "\n",
    "data.head()\n"
   ]
  },
  {
   "cell_type": "code",
   "execution_count": 17,
   "id": "83707a47",
   "metadata": {},
   "outputs": [
    {
     "data": {
      "text/plain": [
       "Drug       object\n",
       "Disease     int64\n",
       "Gender      int64\n",
       "Age         int64\n",
       "dtype: object"
      ]
     },
     "execution_count": 17,
     "metadata": {},
     "output_type": "execute_result"
    }
   ],
   "source": [
    "data.dtypes"
   ]
  },
  {
   "cell_type": "markdown",
   "id": "9741062f",
   "metadata": {},
   "source": [
    "# Feature selection"
   ]
  },
  {
   "cell_type": "code",
   "execution_count": 88,
   "id": "3f49d096",
   "metadata": {},
   "outputs": [
    {
     "data": {
      "text/html": [
       "<div>\n",
       "<style scoped>\n",
       "    .dataframe tbody tr th:only-of-type {\n",
       "        vertical-align: middle;\n",
       "    }\n",
       "\n",
       "    .dataframe tbody tr th {\n",
       "        vertical-align: top;\n",
       "    }\n",
       "\n",
       "    .dataframe thead th {\n",
       "        text-align: right;\n",
       "    }\n",
       "</style>\n",
       "<table border=\"1\" class=\"dataframe\">\n",
       "  <thead>\n",
       "    <tr style=\"text-align: right;\">\n",
       "      <th></th>\n",
       "      <th>Disease</th>\n",
       "      <th>Gender</th>\n",
       "      <th>Age</th>\n",
       "    </tr>\n",
       "  </thead>\n",
       "  <tbody>\n",
       "    <tr>\n",
       "      <th>0</th>\n",
       "      <td>0</td>\n",
       "      <td>1</td>\n",
       "      <td>23</td>\n",
       "    </tr>\n",
       "    <tr>\n",
       "      <th>1</th>\n",
       "      <td>0</td>\n",
       "      <td>1</td>\n",
       "      <td>23</td>\n",
       "    </tr>\n",
       "    <tr>\n",
       "      <th>2</th>\n",
       "      <td>0</td>\n",
       "      <td>1</td>\n",
       "      <td>23</td>\n",
       "    </tr>\n",
       "    <tr>\n",
       "      <th>3</th>\n",
       "      <td>0</td>\n",
       "      <td>1</td>\n",
       "      <td>23</td>\n",
       "    </tr>\n",
       "    <tr>\n",
       "      <th>4</th>\n",
       "      <td>0</td>\n",
       "      <td>1</td>\n",
       "      <td>23</td>\n",
       "    </tr>\n",
       "  </tbody>\n",
       "</table>\n",
       "</div>"
      ],
      "text/plain": [
       "   Disease  Gender  Age\n",
       "0        0       1   23\n",
       "1        0       1   23\n",
       "2        0       1   23\n",
       "3        0       1   23\n",
       "4        0       1   23"
      ]
     },
     "execution_count": 88,
     "metadata": {},
     "output_type": "execute_result"
    }
   ],
   "source": [
    "df_X = data[['Disease', 'Gender', 'Age']]\n",
    "df_Y = data[['Drug']]\n",
    "df_X.head()"
   ]
  },
  {
   "cell_type": "code",
   "execution_count": 25,
   "id": "7a674ff3",
   "metadata": {},
   "outputs": [
    {
     "data": {
      "text/html": [
       "<div>\n",
       "<style scoped>\n",
       "    .dataframe tbody tr th:only-of-type {\n",
       "        vertical-align: middle;\n",
       "    }\n",
       "\n",
       "    .dataframe tbody tr th {\n",
       "        vertical-align: top;\n",
       "    }\n",
       "\n",
       "    .dataframe thead th {\n",
       "        text-align: right;\n",
       "    }\n",
       "</style>\n",
       "<table border=\"1\" class=\"dataframe\">\n",
       "  <thead>\n",
       "    <tr style=\"text-align: right;\">\n",
       "      <th></th>\n",
       "      <th>Drug</th>\n",
       "    </tr>\n",
       "  </thead>\n",
       "  <tbody>\n",
       "    <tr>\n",
       "      <th>0</th>\n",
       "      <td>A CN Gel(Topical) 20gmA CN Soap 75gm</td>\n",
       "    </tr>\n",
       "    <tr>\n",
       "      <th>1</th>\n",
       "      <td>A Ret 0.05% Gel 20gmA Ret 0.1% Gel 20gmA Ret 0...</td>\n",
       "    </tr>\n",
       "    <tr>\n",
       "      <th>2</th>\n",
       "      <td>ACGEL CL NANO Gel 15gm</td>\n",
       "    </tr>\n",
       "    <tr>\n",
       "      <th>3</th>\n",
       "      <td>ACGEL NANO Gel 15gm</td>\n",
       "    </tr>\n",
       "    <tr>\n",
       "      <th>4</th>\n",
       "      <td>Acleen 1% Lotion 25ml</td>\n",
       "    </tr>\n",
       "  </tbody>\n",
       "</table>\n",
       "</div>"
      ],
      "text/plain": [
       "                                                Drug\n",
       "0               A CN Gel(Topical) 20gmA CN Soap 75gm\n",
       "1  A Ret 0.05% Gel 20gmA Ret 0.1% Gel 20gmA Ret 0...\n",
       "2                             ACGEL CL NANO Gel 15gm\n",
       "3                                ACGEL NANO Gel 15gm\n",
       "4                              Acleen 1% Lotion 25ml"
      ]
     },
     "execution_count": 25,
     "metadata": {},
     "output_type": "execute_result"
    }
   ],
   "source": [
    "df_Y.head()"
   ]
  },
  {
   "cell_type": "markdown",
   "id": "0cc4b261",
   "metadata": {},
   "source": [
    "# Train test split"
   ]
  },
  {
   "cell_type": "code",
   "execution_count": 27,
   "id": "176e338b",
   "metadata": {},
   "outputs": [],
   "source": [
    "from sklearn.model_selection import train_test_split\n",
    "trainX, testX, trainY, testY = train_test_split(df_X, df_Y, test_size = 0.2, random_state = 0)\n"
   ]
  },
  {
   "cell_type": "code",
   "execution_count": 28,
   "id": "1cc71356",
   "metadata": {},
   "outputs": [
    {
     "data": {
      "text/html": [
       "<div>\n",
       "<style scoped>\n",
       "    .dataframe tbody tr th:only-of-type {\n",
       "        vertical-align: middle;\n",
       "    }\n",
       "\n",
       "    .dataframe tbody tr th {\n",
       "        vertical-align: top;\n",
       "    }\n",
       "\n",
       "    .dataframe thead th {\n",
       "        text-align: right;\n",
       "    }\n",
       "</style>\n",
       "<table border=\"1\" class=\"dataframe\">\n",
       "  <thead>\n",
       "    <tr style=\"text-align: right;\">\n",
       "      <th></th>\n",
       "      <th>Disease</th>\n",
       "      <th>Gender</th>\n",
       "      <th>Age</th>\n",
       "    </tr>\n",
       "  </thead>\n",
       "  <tbody>\n",
       "    <tr>\n",
       "      <th>2150</th>\n",
       "      <td>2</td>\n",
       "      <td>1</td>\n",
       "      <td>23</td>\n",
       "    </tr>\n",
       "    <tr>\n",
       "      <th>167</th>\n",
       "      <td>0</td>\n",
       "      <td>0</td>\n",
       "      <td>20</td>\n",
       "    </tr>\n",
       "    <tr>\n",
       "      <th>3188</th>\n",
       "      <td>2</td>\n",
       "      <td>0</td>\n",
       "      <td>23</td>\n",
       "    </tr>\n",
       "    <tr>\n",
       "      <th>844</th>\n",
       "      <td>1</td>\n",
       "      <td>0</td>\n",
       "      <td>23</td>\n",
       "    </tr>\n",
       "    <tr>\n",
       "      <th>4129</th>\n",
       "      <td>3</td>\n",
       "      <td>0</td>\n",
       "      <td>37</td>\n",
       "    </tr>\n",
       "  </tbody>\n",
       "</table>\n",
       "</div>"
      ],
      "text/plain": [
       "      Disease  Gender  Age\n",
       "2150        2       1   23\n",
       "167         0       0   20\n",
       "3188        2       0   23\n",
       "844         1       0   23\n",
       "4129        3       0   37"
      ]
     },
     "execution_count": 28,
     "metadata": {},
     "output_type": "execute_result"
    }
   ],
   "source": [
    "trainX.head()"
   ]
  },
  {
   "cell_type": "code",
   "execution_count": 29,
   "id": "f989ca49",
   "metadata": {},
   "outputs": [
    {
     "data": {
      "text/html": [
       "<div>\n",
       "<style scoped>\n",
       "    .dataframe tbody tr th:only-of-type {\n",
       "        vertical-align: middle;\n",
       "    }\n",
       "\n",
       "    .dataframe tbody tr th {\n",
       "        vertical-align: top;\n",
       "    }\n",
       "\n",
       "    .dataframe thead th {\n",
       "        text-align: right;\n",
       "    }\n",
       "</style>\n",
       "<table border=\"1\" class=\"dataframe\">\n",
       "  <thead>\n",
       "    <tr style=\"text-align: right;\">\n",
       "      <th></th>\n",
       "      <th>Drug</th>\n",
       "    </tr>\n",
       "  </thead>\n",
       "  <tbody>\n",
       "    <tr>\n",
       "      <th>2150</th>\n",
       "      <td>Glycinorm Total 30mg Tablet 10'SGlycinorm Tota...</td>\n",
       "    </tr>\n",
       "    <tr>\n",
       "      <th>167</th>\n",
       "      <td>Dersol BH Ointment 30gm</td>\n",
       "    </tr>\n",
       "    <tr>\n",
       "      <th>3188</th>\n",
       "      <td>Wosulin New 30/70 100IU Cartridge 3X3ml</td>\n",
       "    </tr>\n",
       "    <tr>\n",
       "      <th>844</th>\n",
       "      <td>Lejet M JR Tablet 10'S</td>\n",
       "    </tr>\n",
       "    <tr>\n",
       "      <th>4129</th>\n",
       "      <td>Zocon 50mg Tablet 4'SZocon Transgel 15gmZocon ...</td>\n",
       "    </tr>\n",
       "  </tbody>\n",
       "</table>\n",
       "</div>"
      ],
      "text/plain": [
       "                                                   Drug\n",
       "2150  Glycinorm Total 30mg Tablet 10'SGlycinorm Tota...\n",
       "167                             Dersol BH Ointment 30gm\n",
       "3188            Wosulin New 30/70 100IU Cartridge 3X3ml\n",
       "844                              Lejet M JR Tablet 10'S\n",
       "4129  Zocon 50mg Tablet 4'SZocon Transgel 15gmZocon ..."
      ]
     },
     "execution_count": 29,
     "metadata": {},
     "output_type": "execute_result"
    }
   ],
   "source": [
    "trainY.head()"
   ]
  },
  {
   "cell_type": "markdown",
   "id": "89923891",
   "metadata": {},
   "source": [
    "# Fit random forest model"
   ]
  },
  {
   "cell_type": "code",
   "execution_count": 100,
   "id": "fa1b69bd",
   "metadata": {},
   "outputs": [],
   "source": [
    "from sklearn.ensemble import RandomForestClassifier\n",
    "\n",
    "randomForest = RandomForestClassifier()\n",
    "randomForest = randomForest.fit(df_X, np.ravel(df_Y))"
   ]
  },
  {
   "cell_type": "markdown",
   "id": "fbc500e2",
   "metadata": {},
   "source": [
    "# Model accurary score"
   ]
  },
  {
   "cell_type": "code",
   "execution_count": 101,
   "id": "892ca09e",
   "metadata": {},
   "outputs": [
    {
     "name": "stdout",
     "output_type": "stream",
     "text": [
      "0.04843592330978809\n",
      "48\n"
     ]
    }
   ],
   "source": [
    "from sklearn.metrics import accuracy_score\n",
    "predY = randomForest.predict(testX)\n",
    "print(accuracy_score(testY,predY))\n",
    "print(accuracy_score(testY, predY, normalize = False))"
   ]
  },
  {
   "cell_type": "code",
   "execution_count": 112,
   "id": "9a0f8538",
   "metadata": {},
   "outputs": [
    {
     "data": {
      "text/plain": [
       "0.04843592330978809"
      ]
     },
     "execution_count": 112,
     "metadata": {},
     "output_type": "execute_result"
    }
   ],
   "source": [
    "# Score\n",
    "randomForest.score(testX, testY)"
   ]
  },
  {
   "cell_type": "markdown",
   "id": "e13d5ff4",
   "metadata": {},
   "source": [
    "# Prediction of test dataset"
   ]
  },
  {
   "cell_type": "code",
   "execution_count": 114,
   "id": "4b182874",
   "metadata": {},
   "outputs": [
    {
     "name": "stdout",
     "output_type": "stream",
     "text": [
      "[\"METFAITH 500mg Tablet 10'sMETFAITH 1000mg Tablet 10's\"\n",
      " \"Alermed 180mg Tablet 10'SAlermed Tablet 10'S\"\n",
      " \"Herpex 200mg Tablet 10'SHerpex 5% Cream 5gmHerpex DT 800mg Tablet 5'S\"\n",
      " \"Lezyncet M Tablet 10'SLezyncet M Syrup 60ml\"\n",
      " \"METFAITH 500mg Tablet 10'sMETFAITH 1000mg Tablet 10's\"\n",
      " \"Itrapex 100mg Capsule 10'SItrapex 200mg Capsule 10'S\"\n",
      " \"Herpex 200mg Tablet 10'SHerpex 5% Cream 5gmHerpex DT 800mg Tablet 5'S\"\n",
      " \"Lumerax 80mg Tablet 6'SLumerax 60mg Tablet 6'SLumerax Dry Syrup 60mlLumerax 20/120mg Tablet 4'SLumerax 40mg Tablet 6'SLumerax Dry Syrup 30ml\"\n",
      " \"Lumerax 80mg Tablet 6'SLumerax 60mg Tablet 6'SLumerax Dry Syrup 60mlLumerax 20/120mg Tablet 4'SLumerax 40mg Tablet 6'SLumerax Dry Syrup 30ml\"\n",
      " \"Herpex 200mg Tablet 10'SHerpex 5% Cream 5gmHerpex DT 800mg Tablet 5'S\"\n",
      " \"Exermet 850mg Tablet 15'SExermet 500mg Tablet 15'SExermet 500mg Tablet 10'SExermet 850mg Tablet 10'SEXERMET 1000MG TABLET 10'S(N)\"\n",
      " 'Fexidine Syrup 60ml' \"L Montus Flash Tablet 10'S\"\n",
      " \"Volix CP 0.3mg Tablet 30'S\"\n",
      " \"Glycinorm Total 30mg Tablet 10'SGlycinorm Total 60mg Tablet 10'S\"]\n"
     ]
    }
   ],
   "source": [
    "prediction = randomForest.predict(testX)\n",
    "print(prediction[0:15])"
   ]
  },
  {
   "cell_type": "markdown",
   "id": "c051d424",
   "metadata": {},
   "source": [
    "# Prediction for 20 year old female PateintXYZ"
   ]
  },
  {
   "cell_type": "code",
   "execution_count": 115,
   "id": "1fe7eda6",
   "metadata": {},
   "outputs": [
    {
     "name": "stdout",
     "output_type": "stream",
     "text": [
      "(3,)\n",
      "(1, 3)\n"
     ]
    }
   ],
   "source": [
    "# Acne = 0, Female = 0 and Age = 20\n",
    "\n",
    "test1 = [0, 0, 20]\n",
    "test1 = np.array(test1)\n",
    "\n",
    "# List to Numpy Array\n",
    "print(test1.shape)\n",
    "\n",
    "# Convert 1D to 2D\n",
    "test1 = np.array(test1).reshape(1, -1)\n",
    "\n",
    "print(test1.shape)"
   ]
  },
  {
   "cell_type": "markdown",
   "id": "158da0d2",
   "metadata": {},
   "source": [
    "# Recommend Drug name based on disease, age and gender by using ML"
   ]
  },
  {
   "cell_type": "code",
   "execution_count": 116,
   "id": "d96ead09",
   "metadata": {},
   "outputs": [
    {
     "name": "stdout",
     "output_type": "stream",
     "text": [
      "ISO T 20mg Capsule 10'S\n"
     ]
    },
    {
     "name": "stderr",
     "output_type": "stream",
     "text": [
      "C:\\Users\\Admin\\anaconda3\\lib\\site-packages\\sklearn\\base.py:450: UserWarning: X does not have valid feature names, but RandomForestClassifier was fitted with feature names\n",
      "  warnings.warn(\n"
     ]
    }
   ],
   "source": [
    "prediction1 = randomForest.predict(test1)\n",
    "print(prediction1[0])"
   ]
  },
  {
   "cell_type": "markdown",
   "id": "0232d3e1",
   "metadata": {},
   "source": [
    "# Dump model to disk\n"
   ]
  },
  {
   "cell_type": "code",
   "execution_count": 117,
   "id": "1b4eb99d",
   "metadata": {},
   "outputs": [
    {
     "data": {
      "text/plain": [
       "['MLModel/randomForest_medical.pk1']"
      ]
     },
     "execution_count": 117,
     "metadata": {},
     "output_type": "execute_result"
    }
   ],
   "source": [
    "import joblib as joblib\n",
    "joblib.dump(randomForest,'MLModel/randomForest_medical.pk1')"
   ]
  },
  {
   "cell_type": "markdown",
   "id": "155e37c4",
   "metadata": {},
   "source": [
    "# Load model"
   ]
  },
  {
   "cell_type": "code",
   "execution_count": 118,
   "id": "b8bde4d4",
   "metadata": {},
   "outputs": [],
   "source": [
    "classification = joblib.load('MLModel/randomForest_medical.pk1')"
   ]
  },
  {
   "cell_type": "markdown",
   "id": "682c6253",
   "metadata": {},
   "source": [
    "# Prediction using ML model from disk"
   ]
  },
  {
   "cell_type": "code",
   "execution_count": 119,
   "id": "2f8f88c2",
   "metadata": {},
   "outputs": [
    {
     "name": "stdout",
     "output_type": "stream",
     "text": [
      "ISO T 20mg Capsule 10'S\n"
     ]
    },
    {
     "name": "stderr",
     "output_type": "stream",
     "text": [
      "C:\\Users\\Admin\\anaconda3\\lib\\site-packages\\sklearn\\base.py:450: UserWarning: X does not have valid feature names, but RandomForestClassifier was fitted with feature names\n",
      "  warnings.warn(\n"
     ]
    }
   ],
   "source": [
    "prediction2 = classification.predict(test1)\n",
    "print(prediction2[0])"
   ]
  },
  {
   "cell_type": "markdown",
   "id": "000554d8",
   "metadata": {},
   "source": [
    "# Gaussian Naive Bayes"
   ]
  },
  {
   "cell_type": "code",
   "execution_count": 120,
   "id": "e0aa1412",
   "metadata": {},
   "outputs": [],
   "source": [
    "# Fitting NB\n",
    "\n",
    "from sklearn.naive_bayes import GaussianNB\n",
    "gnb = GaussianNB()\n",
    "gnb = gnb.fit(df_X,np.ravel(df_Y))"
   ]
  },
  {
   "cell_type": "code",
   "execution_count": 121,
   "id": "375e93e8",
   "metadata": {},
   "outputs": [
    {
     "name": "stdout",
     "output_type": "stream",
     "text": [
      "0.039354187689202826\n",
      "39\n"
     ]
    }
   ],
   "source": [
    "# Check accuracy score\n",
    "\n",
    "predY = gnb.predict(testX)\n",
    "print(accuracy_score(testY, predY))\n",
    "print(accuracy_score(testY, predY, normalize = False))"
   ]
  },
  {
   "cell_type": "code",
   "execution_count": 122,
   "id": "ba2e177f",
   "metadata": {},
   "outputs": [
    {
     "data": {
      "text/plain": [
       "0.039354187689202826"
      ]
     },
     "execution_count": 122,
     "metadata": {},
     "output_type": "execute_result"
    }
   ],
   "source": [
    "gnb.score(testX, testY)"
   ]
  },
  {
   "cell_type": "markdown",
   "id": "05456124",
   "metadata": {},
   "source": [
    "# Recommend Drug name"
   ]
  },
  {
   "cell_type": "code",
   "execution_count": 123,
   "id": "df39c1dc",
   "metadata": {},
   "outputs": [
    {
     "name": "stdout",
     "output_type": "stream",
     "text": [
      "DERMADEW B Bar 75gm\n"
     ]
    },
    {
     "name": "stderr",
     "output_type": "stream",
     "text": [
      "C:\\Users\\Admin\\anaconda3\\lib\\site-packages\\sklearn\\base.py:450: UserWarning: X does not have valid feature names, but GaussianNB was fitted with feature names\n",
      "  warnings.warn(\n"
     ]
    }
   ],
   "source": [
    "drugname = gnb.predict(test1)\n",
    "print(drugname[0])"
   ]
  },
  {
   "cell_type": "code",
   "execution_count": null,
   "id": "4fb96f30",
   "metadata": {},
   "outputs": [],
   "source": []
  }
 ],
 "metadata": {
  "kernelspec": {
   "display_name": "Python 3 (ipykernel)",
   "language": "python",
   "name": "python3"
  },
  "language_info": {
   "codemirror_mode": {
    "name": "ipython",
    "version": 3
   },
   "file_extension": ".py",
   "mimetype": "text/x-python",
   "name": "python",
   "nbconvert_exporter": "python",
   "pygments_lexer": "ipython3",
   "version": "3.9.13"
  }
 },
 "nbformat": 4,
 "nbformat_minor": 5
}
